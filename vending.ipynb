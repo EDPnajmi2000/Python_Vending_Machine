{
 "cells": [
  {
   "cell_type": "code",
   "execution_count": 14,
   "metadata": {},
   "outputs": [],
   "source": [
    "# Function to Display the drinks available\n",
    "def displayDrinks(drinkMenu):\n",
    "    print(\"==========================================\")\n",
    "    print(\"Welcome to the Vending Machine\")\n",
    "    print(\"==========================================\")\n",
    "    print(\"Drinks: \")\n",
    "    for name, price in drinkMenu.items():\n",
    "        print(f\"{name}: RM {price}.00\")\n",
    "    print(\"==========================================\")"
   ]
  },
  {
   "cell_type": "code",
   "execution_count": 39,
   "metadata": {},
   "outputs": [
    {
     "data": {
      "text/plain": [
       "[50, 50, 50, 50, 10, 1]"
      ]
     },
     "execution_count": 39,
     "metadata": {},
     "output_type": "execute_result"
    }
   ],
   "source": [
    "# function to calculate the min number of notes for the balance\n",
    "def calculateBalanceNotes(balance):\n",
    "    balanceNotes = []\n",
    "\n",
    "    # check for RM 50 notes:\n",
    "    if balance/50 >= 1:\n",
    "        numNotes = int(balance/50)\n",
    "        balanceNotes.extend([50]*numNotes)\n",
    "        balance = balance - (50*numNotes)\n",
    "\n",
    "    # check for RM 20 notes:\n",
    "    if balance/20 >= 1:\n",
    "        numNotes = int(balance/20)\n",
    "        balanceNotes.extend([20]*numNotes)\n",
    "        balance = balance - (20*numNotes)\n",
    "\n",
    "    # check for RM 10 notes:\n",
    "    if balance/10 >= 1:\n",
    "        numNotes = int(balance/10)\n",
    "        balanceNotes.extend([10]*numNotes)\n",
    "        balance = balance - (10*numNotes)\n",
    "\n",
    "    # check for RM 5 notes:\n",
    "    if balance/5 >= 1:\n",
    "        numNotes = int(balance/5)\n",
    "        balanceNotes.extend([5]*numNotes)\n",
    "        balance = balance - (5*numNotes)\n",
    "\n",
    "    # check for RM 1 notes:\n",
    "    if balance/1 >= 1:\n",
    "        numNotes = int(balance/1)\n",
    "        balanceNotes.extend([1]*numNotes)\n",
    "        balance = balance - (1*numNotes)\n",
    "\n",
    "    return balanceNotes\n"
   ]
  },
  {
   "cell_type": "code",
   "execution_count": 15,
   "metadata": {},
   "outputs": [],
   "source": [
    "# Define the drinks\n",
    "drinkMenu = {\n",
    "    \"COCA-COLA\":2,\n",
    "    \"PEPSI\":3,\n",
    "    \"FANTA\":1,\n",
    "    \"MILO\":4,\n",
    "    \"WONDA COFFEE\":5,\n",
    "    \"SPRITZER\":1,\n",
    "}"
   ]
  },
  {
   "cell_type": "code",
   "execution_count": 42,
   "metadata": {},
   "outputs": [
    {
     "name": "stdout",
     "output_type": "stream",
     "text": [
      "==========================================\n",
      "Welcome to the Vending Machine\n",
      "==========================================\n",
      "Drinks: \n",
      "COCA-COLA: RM 2.00\n",
      "PEPSI: RM 3.00\n",
      "FANTA: RM 1.00\n",
      "MILO: RM 4.00\n",
      "WONDA COFFEE: RM 5.00\n",
      "SPRITZER: RM 1.00\n",
      "==========================================\n",
      "Total Price: 50\n",
      "Total Inserted RM 5\n",
      "Total Inserted RM 15\n",
      "Total Inserted RM 25\n",
      "Total Inserted RM 75\n",
      "Total Balance RM {balance}\n",
      "Returning Balance: \n",
      "RM 20\n",
      "RM 5\n",
      "Balance Returned\n",
      "Thank you for purchasing with us :D\n",
      "Email najmiarif2000@gmail.com for any business inquiries (•‿•)\n"
     ]
    }
   ],
   "source": [
    "# Main Code\n",
    "\n",
    "displayDrinks(drinkMenu)\n",
    "\n",
    "# Get the drink selection\n",
    "while True:\n",
    "    drinkSelection = input(\"Enter Drink Name: \").upper()\n",
    "    if drinkSelection in drinkMenu:\n",
    "        break\n",
    "    else:\n",
    "        print(\"Invalid drink name\")\n",
    "\n",
    "# Get the number of drinks\n",
    "while True:\n",
    "    numDrinks = input(\"Enter the number of drinks to purchase: \")\n",
    "    if numDrinks.isdigit():\n",
    "        break\n",
    "    else:\n",
    "        print(\"Please enter whole number only\")\n",
    "\n",
    "total = int(drinkMenu[drinkSelection])*int(numDrinks)\n",
    "print(f\"Total Price: {total}\")\n",
    "\n",
    "totalNotesInserted = 0\n",
    "\n",
    "while totalNotesInserted<total:\n",
    "    noteInserted = input(\"Please enter notes: \")\n",
    "    if noteInserted.isdigit():\n",
    "        totalNotesInserted += int(noteInserted)\n",
    "        print(f\"Total Inserted RM {totalNotesInserted}\")\n",
    "\n",
    "balance = totalNotesInserted - total\n",
    "\n",
    "if balance>0:\n",
    "    print(f\"Total Balance RM {balance}\")\n",
    "\n",
    "    balanceNotes = calculateBalanceNotes(balance)\n",
    "\n",
    "    print(\"Returning Balance: \")\n",
    "\n",
    "    for note in balanceNotes:\n",
    "        print(f\"RM {note}\")\n",
    "\n",
    "    print(\"Balance Returned\")\n",
    "    \n",
    "    \n",
    "\n",
    "\n",
    "else:\n",
    "    print(\"Exact ammount inserted. No balance will be returned\")\n",
    "\n",
    "print(\"Thank you for purchasing with us :D\")\n",
    "print(\"Email najmiarif2000@gmail.com for any business inquiries (•‿•)\")\n",
    "\n"
   ]
  },
  {
   "cell_type": "code",
   "execution_count": null,
   "metadata": {},
   "outputs": [],
   "source": [
    "\n"
   ]
  },
  {
   "cell_type": "code",
   "execution_count": null,
   "metadata": {},
   "outputs": [],
   "source": []
  }
 ],
 "metadata": {
  "kernelspec": {
   "display_name": "base",
   "language": "python",
   "name": "python3"
  },
  "language_info": {
   "codemirror_mode": {
    "name": "ipython",
    "version": 3
   },
   "file_extension": ".py",
   "mimetype": "text/x-python",
   "name": "python",
   "nbconvert_exporter": "python",
   "pygments_lexer": "ipython3",
   "version": "3.11.4"
  }
 },
 "nbformat": 4,
 "nbformat_minor": 2
}
